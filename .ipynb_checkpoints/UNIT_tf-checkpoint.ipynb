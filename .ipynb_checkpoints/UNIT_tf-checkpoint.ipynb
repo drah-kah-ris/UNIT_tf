{
 "cells": [
  {
   "cell_type": "markdown",
   "metadata": {},
   "source": [
    "# Unsupervised Image-image Translation(UNIT) TensorFlow Implementation"
   ]
  },
  {
   "cell_type": "code",
   "execution_count": 5,
   "metadata": {},
   "outputs": [
    {
     "name": "stderr",
     "output_type": "stream",
     "text": [
      "/home/praveen/anaconda3/lib/python3.6/importlib/_bootstrap.py:219: RuntimeWarning: compiletime version 3.5 of module 'tensorflow.python.framework.fast_tensor_util' does not match runtime version 3.6\n",
      "  return f(*args, **kwds)\n"
     ]
    }
   ],
   "source": [
    "import tensorflow as tf\n",
    "from collections import OrderedDict"
   ]
  },
  {
   "cell_type": "code",
   "execution_count": 6,
   "metadata": {},
   "outputs": [],
   "source": [
    "#Funciton to chose the activation function\n",
    "def activate(linear, activation='leaky_relu'):\n",
    "        if activation == 'sigmoid':\n",
    "            return tf.nn.sigmoid(linear)\n",
    "        elif activation == 'softmax':\n",
    "            return tf.nn.softmax(linear)\n",
    "        elif activation == 'tanh':\n",
    "            return tf.nn.tanh(linear)\n",
    "        elif activation == 'relu':\n",
    "            return tf.nn.relu(linear)\n",
    "        elif activation == 'leaky_relu':\n",
    "            return tf.nn.leaky_relu(linear)\n",
    "        elif activation == 'linear':\n",
    "            return linear"
   ]
  },
  {
   "cell_type": "code",
   "execution_count": 7,
   "metadata": {},
   "outputs": [],
   "source": [
    "def gaussian_noise_layer(input_layer, std=1.0):\n",
    "    noise = tf.random_normal(shape=tf.shape(input_layer), mean=0.0, stddev=std, dtype=tf.float32) \n",
    "    return tf.add(input_layer, noise)"
   ]
  },
  {
   "cell_type": "code",
   "execution_count": 8,
   "metadata": {},
   "outputs": [],
   "source": [
    "def batch_normalization_layer(input_layer):\n",
    "    \n",
    "    dimension = input_layer.get_shape().as_list()[-1]\n",
    "    \n",
    "    mean, variance = tf.nn.moments(input_layer, axes=[0, 1, 2])\n",
    "    \n",
    "    beta = tf.Variable(tf.constant(0.0, shape=[dimension]))\n",
    "    \n",
    "    gamma = tf.Variable(tf.constant(1.0, shape=[dimension]))\n",
    "\n",
    "    bn_layer = tf.nn.batch_normalization(input_layer, mean, variance, beta, gamma, variance_epsilon=1e-10)\n",
    "\n",
    "    return bn_layer"
   ]
  },
  {
   "cell_type": "code",
   "execution_count": 22,
   "metadata": {},
   "outputs": [],
   "source": [
    "def create_conv_layer(input_layer,     # The previous layer.\n",
    "                   filter_size,        # Width and height of each filter.\n",
    "                   num_filters,        # Number of filters.\n",
    "                   use_pooling=False,  \n",
    "                   pad = [],\n",
    "                   strides=[1,1,1,1],\n",
    "                   deconv=False,\n",
    "                   out_shape = [],      # Output shape in case of deconv \n",
    "                   batch_normalization=False,\n",
    "                   activation='leaky_relu'): # Use 2x2 max-pooling.\n",
    "\n",
    "    \n",
    "    num_input_channels = input_layer.get_shape().as_list()[-1]\n",
    "    # Shape of the filter-weights for the convolution. \n",
    "    # This format is determined by the TensorFlow API.\n",
    "    if deconv:\n",
    "        shape = [filter_size, filter_size, num_filters, num_input_channels]\n",
    "    else:\n",
    "        shape = [filter_size, filter_size, num_input_channels, num_filters]\n",
    "\n",
    "    # Create new weights aka. filters with the given shape.\n",
    "    weights = tf.Variable(tf.truncated_normal(shape, stddev=0.05))\n",
    "\n",
    "    # Create new biases, one for each filter.\n",
    "    biases = tf.Variable(tf.constant(1.0, shape=[num_filters]))\n",
    "\n",
    "    if len(pad) > 0:\n",
    "        input_layer = tf.pad(input_layer, [[0, 0], [pad[0], pad[0]], [pad[1], pad[1]], [0, 0]], \"CONSTANT\")\n",
    "    \n",
    "    # Create the TensorFlow operation for de-convolution.\n",
    "    if deconv:\n",
    "        #in_shape = input_layer.get_shape().as_list()\n",
    "        in_shape = tf.shape(input_layer)\n",
    "    \n",
    "        out_h = ((in_shape[1] - 1) * strides[1]) + filter_size - 2 * pad[0]\n",
    "        \n",
    "        out_w = ((in_shape[2] - 1) * strides[2]) + filter_size - 2 * pad[1]\n",
    "        \n",
    "        output_shape = tf.stack([in_shape[0], out_h, out_w, num_filters])\n",
    "        \n",
    "        layer = tf.nn.conv2d_transpose(value=input_layer, \n",
    "                                       filter=weights, \n",
    "                                       output_shape=output_shape, \n",
    "                                       strides=strides, \n",
    "                                       padding='VALID')\n",
    "        \n",
    "    else:\n",
    "        layer = tf.nn.conv2d(input=input_layer,\n",
    "                         filter=weights,\n",
    "                         strides=strides,\n",
    "                         padding='VALID')\n",
    "\n",
    "    # Add the biases to the results of the convolution.\n",
    "    # A bias-value is added to each filter-channel.\n",
    "    layer = tf.add(layer,biases)\n",
    "\n",
    "    # Use pooling to down-sample the image resolution?\n",
    "    if use_pooling:\n",
    "        # This is 2x2 max-pooling, which means that we\n",
    "        # consider 2x2 windows and select the largest value\n",
    "        # in each window. Then we move 2 pixels to the next window.\n",
    "        layer = tf.nn.max_pool(value=layer,\n",
    "                               ksize=[1, 2, 2, 1],\n",
    "                               strides=[1, 2, 2, 1],\n",
    "                               padding='SAME')\n",
    "\n",
    "    # Batch normalization\n",
    "    if batch_normalization:\n",
    "        layer = batch_normalization_layer(layer)\n",
    "    \n",
    "    # Activation of the layers (ReLU).\n",
    "    layer = activate(layer, activation=activation)\n",
    "\n",
    "    return layer"
   ]
  },
  {
   "cell_type": "code",
   "execution_count": 10,
   "metadata": {},
   "outputs": [],
   "source": [
    "def create_res_block(X, filter_size=3, num_filters=3, pad=[1,1]):\n",
    "    \n",
    "    num_filters = X.get_shape().as_list()[-1]\n",
    "    \n",
    "    layer_conv1 = create_conv_layer(input_layer=X,\n",
    "                                   filter_size=filter_size,\n",
    "                                   num_filters=num_filters,\n",
    "                                   pad=pad,\n",
    "                                   use_pooling=False,\n",
    "                                   batch_normalization=True,\n",
    "                                   activation='relu')\n",
    "    \n",
    "    layer_conv2 = create_conv_layer(input_layer=layer_conv1,\n",
    "                                   filter_size=filter_size,\n",
    "                                   num_filters=num_filters,\n",
    "                                   pad=pad,\n",
    "                                   use_pooling=False,\n",
    "                                   batch_normalization=False,\n",
    "                                   activation='linear')\n",
    "    \n",
    "    layer_conv2 = batch_normalization_layer(layer_conv2)\n",
    "    \n",
    "    layer_conv2 += X\n",
    "    \n",
    "    layer_res = activate(layer_conv2, activation='relu')\n",
    "    \n",
    "    return layer_res"
   ]
  },
  {
   "cell_type": "code",
   "execution_count": 11,
   "metadata": {},
   "outputs": [],
   "source": [
    "def create_encoder(X, layer_n, res_block_n):\n",
    "    \n",
    "    num_filters = X.get_shape().as_list()[-1]\n",
    "    \n",
    "    encoder = OrderedDict()\n",
    "    \n",
    "    encoder['layer_conv1'] = create_conv_layer(input_layer=X,\n",
    "                                       num_filters=num_filters,\n",
    "                                       filter_size=7,\n",
    "                                       strides=[1,2,2,1],\n",
    "                                       pad=[3,3])\n",
    "    \n",
    "    for i in range(1, layer_n):\n",
    "        encoder['layer_conv'+str(i+1)] = create_conv_layer(encoder[next(reversed(encoder))],\n",
    "                                       num_filters=num_filters*2,\n",
    "                                       filter_size=3,\n",
    "                                       strides=[1,2,2,1],\n",
    "                                       pad=[1,1])\n",
    "        \n",
    "        num_filters = num_filters*2\n",
    "        \n",
    "    for i in range(1, res_block_n):\n",
    "        encoder['block_en_res'+str(i+1)] = create_res_block(encoder[next(reversed(encoder))],\n",
    "                                                           num_filters=num_filters)\n",
    "        \n",
    "    return encoder[next(reversed(encoder))]"
   ]
  },
  {
   "cell_type": "code",
   "execution_count": 12,
   "metadata": {},
   "outputs": [],
   "source": [
    "def create_shared_layers(X, block_shared_n):\n",
    "    encoder_shared = OrderedDict()\n",
    "    decoder_shared = OrderedDict()\n",
    "    \n",
    "    encoder_shared_ = create_res_block(X)\n",
    "    encoder_shared['block_shared_res1'] = gaussian_noise_layer(encoder_shared_)\n",
    "    \n",
    "    for i in range(1, block_shared_n+1):\n",
    "        encoder_shared_ = create_res_block(encoder_shared[next(reversed(encoder_shared))])\n",
    "        encoder_shared['block_shared_res'+str(i+1)] = gaussian_noise_layer(encoder_shared_)\n",
    "    \n",
    "    decoder_shared['block_shared_res1'] = create_res_block(encoder_shared[next(reversed(encoder_shared))])\n",
    "    \n",
    "    for i in range(1, block_shared_n+1):\n",
    "        decoder_shared['block_shared_res'+str(i+1)] = create_res_block(decoder_shared[next(reversed(decoder_shared))])\n",
    "        \n",
    "    return decoder_shared[next(reversed(decoder_shared))]"
   ]
  },
  {
   "cell_type": "code",
   "execution_count": 34,
   "metadata": {},
   "outputs": [],
   "source": [
    "def create_generator(X, layer_n, res_block_n, num_output_channels):\n",
    "    \n",
    "    num_filters = X.get_shape().as_list()[-1]\n",
    "    print(num_filters)\n",
    "    decoder = OrderedDict()\n",
    "    \n",
    "    decoder['block_res1'] = create_res_block(X, num_filters=num_filters)\n",
    "        \n",
    "    for i in range(1, res_block_n):\n",
    "        decoder['block_res'+str(i+1)] = create_res_block(decoder[next(reversed(decoder))],\n",
    "                                                           num_filters=num_filters)\n",
    "\n",
    "    for i in range(0, layer_n):\n",
    "        \n",
    "        decoder['layer_deconv'+str(i+1)] = create_conv_layer(decoder[next(reversed(decoder))],\n",
    "                                       num_filters=num_filters//2,\n",
    "                                       filter_size=3,\n",
    "                                       strides=[1,2,2,1],\n",
    "                                       pad=[1,1],\n",
    "                                       deconv=True,\n",
    "                                       batch_normalization=True,\n",
    "                                       activation='relu')\n",
    "        \n",
    "        num_filters = num_filters//2\n",
    "    \n",
    "    decoder['layer_deconv_final'] = create_conv_layer(decoder[next(reversed(decoder))],\n",
    "                                       num_filters=num_output_channels,\n",
    "                                       filter_size=1,\n",
    "                                       strides=[1,1,1,1],\n",
    "                                       pad=[0,0],\n",
    "                                       activation='tanh')\n",
    "    \n",
    "    return decoder[next(reversed(decoder))]"
   ]
  },
  {
   "cell_type": "code",
   "execution_count": 35,
   "metadata": {},
   "outputs": [],
   "source": [
    "def create_discrimiator(X, num_filters, layer_n):\n",
    "    \n",
    "    discriminator = OrderedDict()\n",
    "    \n",
    "    discriminator['layer_discrim_conv1'] = create_conv_layer(input_layer=X,\n",
    "                                       num_filters=num_filters,\n",
    "                                       filter_size=3,\n",
    "                                       strides=[1,2,2,1],\n",
    "                                       pad=[1,1])\n",
    "    \n",
    "    for i in range(1, layer_n):\n",
    "        \n",
    "        num_filters = num_filters * 2\n",
    "        \n",
    "        discriminator['layer_discrim_conv'+str(i+1)] = create_conv_layer(discriminator[next(reversed(discriminator))],\n",
    "                                       num_filters=num_filters,\n",
    "                                       filter_size=3,\n",
    "                                       strides=[1,2,2,1],\n",
    "                                       pad=[1,1])\n",
    "    \n",
    "    discriminator['layer_deconv_final'] = create_conv_layer(discriminator[next(reversed(discriminator))],\n",
    "                                       num_filters=1,\n",
    "                                       filter_size=1,\n",
    "                                       strides=[1,1,1,1],\n",
    "                                       pad=[0,0])\n",
    "    \n",
    "    return discriminator[next(reversed(discriminator))]"
   ]
  },
  {
   "cell_type": "code",
   "execution_count": 36,
   "metadata": {},
   "outputs": [],
   "source": [
    "def compute_encoding_loss(x):\n",
    "    x_2 = tf.pow(x, 2)\n",
    "    encoding_loss = tf.reduce_mean(x_2)\n",
    "    return encoding_loss"
   ]
  },
  {
   "cell_type": "code",
   "execution_count": 37,
   "metadata": {},
   "outputs": [],
   "source": [
    "def compute_l1_loss(x,y):\n",
    "    return tf.reduce_mean(tf.subtract(x,y))"
   ]
  },
  {
   "cell_type": "code",
   "execution_count": 38,
   "metadata": {},
   "outputs": [
    {
     "name": "stdout",
     "output_type": "stream",
     "text": [
      "12\n",
      "12\n",
      "64\n"
     ]
    },
    {
     "ename": "ValueError",
     "evalue": "too many values to unpack (expected 2)",
     "output_type": "error",
     "traceback": [
      "\u001b[0;31m---------------------------------------------------------------------------\u001b[0m",
      "\u001b[0;31mValueError\u001b[0m                                Traceback (most recent call last)",
      "\u001b[0;32m<ipython-input-38-3ecda369a237>\u001b[0m in \u001b[0;36m<module>\u001b[0;34m()\u001b[0m\n\u001b[1;32m     13\u001b[0m \u001b[0mdecode_B\u001b[0m \u001b[0;34m=\u001b[0m \u001b[0mcreate_generator\u001b[0m\u001b[0;34m(\u001b[0m\u001b[0mshared\u001b[0m\u001b[0;34m,\u001b[0m \u001b[0mlayer_n\u001b[0m\u001b[0;34m=\u001b[0m\u001b[0;36m3\u001b[0m\u001b[0;34m,\u001b[0m \u001b[0mres_block_n\u001b[0m\u001b[0;34m=\u001b[0m\u001b[0;36m3\u001b[0m\u001b[0;34m,\u001b[0m \u001b[0mnum_output_channels\u001b[0m\u001b[0;34m=\u001b[0m\u001b[0;36m3\u001b[0m\u001b[0;34m)\u001b[0m\u001b[0;34m\u001b[0m\u001b[0m\n\u001b[1;32m     14\u001b[0m \u001b[0mprint\u001b[0m\u001b[0;34m(\u001b[0m\u001b[0mshared\u001b[0m\u001b[0;34m.\u001b[0m\u001b[0mget_shape\u001b[0m\u001b[0;34m(\u001b[0m\u001b[0;34m)\u001b[0m\u001b[0;34m.\u001b[0m\u001b[0mas_list\u001b[0m\u001b[0;34m(\u001b[0m\u001b[0;34m)\u001b[0m\u001b[0;34m[\u001b[0m\u001b[0;36m1\u001b[0m\u001b[0;34m]\u001b[0m\u001b[0;34m)\u001b[0m\u001b[0;34m\u001b[0m\u001b[0m\n\u001b[0;32m---> 15\u001b[0;31m \u001b[0mX_aa\u001b[0m\u001b[0;34m,\u001b[0m \u001b[0mX_ba\u001b[0m \u001b[0;34m=\u001b[0m \u001b[0mtf\u001b[0m\u001b[0;34m.\u001b[0m\u001b[0msplit\u001b[0m\u001b[0;34m(\u001b[0m\u001b[0mdecode_A\u001b[0m\u001b[0;34m,\u001b[0m \u001b[0mnum_or_size_splits\u001b[0m\u001b[0;34m=\u001b[0m\u001b[0mX_A\u001b[0m\u001b[0;34m.\u001b[0m\u001b[0mget_shape\u001b[0m\u001b[0;34m(\u001b[0m\u001b[0;34m)\u001b[0m\u001b[0;34m.\u001b[0m\u001b[0mas_list\u001b[0m\u001b[0;34m(\u001b[0m\u001b[0;34m)\u001b[0m\u001b[0;34m[\u001b[0m\u001b[0;36m1\u001b[0m\u001b[0;34m]\u001b[0m\u001b[0;34m,\u001b[0m \u001b[0maxis\u001b[0m\u001b[0;34m=\u001b[0m\u001b[0;36m1\u001b[0m\u001b[0;34m)\u001b[0m\u001b[0;34m\u001b[0m\u001b[0m\n\u001b[0m\u001b[1;32m     16\u001b[0m \u001b[0mX_ab\u001b[0m\u001b[0;34m,\u001b[0m \u001b[0mX_bb\u001b[0m \u001b[0;34m=\u001b[0m \u001b[0mtf\u001b[0m\u001b[0;34m.\u001b[0m\u001b[0msplit\u001b[0m\u001b[0;34m(\u001b[0m\u001b[0mdecode_B\u001b[0m\u001b[0;34m,\u001b[0m \u001b[0mnum_or_size_splits\u001b[0m\u001b[0;34m=\u001b[0m\u001b[0mX_B\u001b[0m\u001b[0;34m.\u001b[0m\u001b[0mget_shape\u001b[0m\u001b[0;34m(\u001b[0m\u001b[0;34m)\u001b[0m\u001b[0;34m.\u001b[0m\u001b[0mas_list\u001b[0m\u001b[0;34m(\u001b[0m\u001b[0;34m)\u001b[0m\u001b[0;34m[\u001b[0m\u001b[0;36m1\u001b[0m\u001b[0;34m]\u001b[0m\u001b[0;34m,\u001b[0m \u001b[0maxis\u001b[0m\u001b[0;34m=\u001b[0m\u001b[0;36m1\u001b[0m\u001b[0;34m)\u001b[0m\u001b[0;34m\u001b[0m\u001b[0m\n\u001b[1;32m     17\u001b[0m \u001b[0;34m\u001b[0m\u001b[0m\n",
      "\u001b[0;31mValueError\u001b[0m: too many values to unpack (expected 2)"
     ]
    }
   ],
   "source": [
    "#Build Graph\n",
    "X_A = tf.placeholder(tf.float32, shape=[1, 256, 256, 3], name='X_A')\n",
    "X_B = tf.placeholder(tf.float32, shape=[1, 256, 256, 3], name='X_B')\n",
    "\n",
    "encode_A = create_encoder(X_A, layer_n=3, res_block_n=3)\n",
    "encode_B = create_encoder(X_B, layer_n=3, res_block_n=3)\n",
    "\n",
    "encode_AB = tf.concat([encode_A, encode_B], axis=1)\n",
    "\n",
    "shared = create_shared_layers(encode_AB, block_shared_n=3)\n",
    "\n",
    "decode_A = create_generator(shared, layer_n=3, res_block_n=3, num_output_channels=3)\n",
    "decode_B = create_generator(shared, layer_n=3, res_block_n=3, num_output_channels=3)\n",
    "print(shared.get_shape().as_list()[1])\n",
    "X_aa, X_ba = tf.split(decode_A, num_or_size_splits=X_A.get_shape().as_list()[1], axis=1)\n",
    "X_ab, X_bb = tf.split(decode_B, num_or_size_splits=X_B.get_shape().as_list()[1], axis=1)\n",
    "\n",
    "#dis\n",
    "outs_a = create_discrimiator(X_ba, num_filters=3, layer_n=6)\n",
    "outs_b = create_discrimiator(X_ab, num_filters=3, layer_n=6)"
   ]
  },
  {
   "cell_type": "code",
   "execution_count": 19,
   "metadata": {},
   "outputs": [],
   "source": [
    "def forward(sess, X_A, X_B, hyperparameters):\n",
    "    \n",
    "    #a2b\n",
    "    X_bab = sess.run([encode_A], feed_dict={X:X_ba})\n",
    "    shared_bab = sess.run([shared], feed_dict={X:X_bab})\n",
    "    X_bab = sess.run([decode_B], feed_dict={X:shared_bab})\n",
    "    \n",
    "    #b2a\n",
    "    X_aba = sess.run([encode_B], feed_dict={X:X_ab})\n",
    "    shared_aba = sess.run([shared], feed_dict={X:X_aba})\n",
    "    X_aba = sess.run([decode_A], feed_dict={X:shared_aba})\n",
    "    \n",
    "    #loss\n",
    "    all_ones = tf.Variable(tf.constant(1.0, shape=[tf.shape(outs_a)[0]]))\n",
    "    \n",
    "    ad_loss_a = tf.nn.sigmoid_cross_entropy_with_logits(logits=outs_a, labels=all_ones)\n",
    "    ad_loss_b = tf.nn.sigmoid_cross_entropy_with_logits(logits=outs_b, labels=all_ones)\n",
    "    \n",
    "    enc_loss  = compute_encoding_loss(shared)\n",
    "    enc_bab_loss = compute_encoding_loss(shared_bab)\n",
    "    enc_aba_loss = compute_encoding_loss(shared_aba)\n",
    "    ll_loss_a = compute_l1_loss(X_aa, X_A)\n",
    "    ll_loss_b = compute_l1_loss(X_bb, X_B)\n",
    "    ll_loss_aba = compute_l1_loss(X_aba, X_A)\n",
    "    ll_loss_bab = compute_l1_loss(X_bab, X_B)\n",
    "    \n",
    "    total_loss = hyperparameters['gan_w'] * (ad_loss_a + ad_loss_b) + \\\n",
    "                 hyperparameters['ll_direct_link_w'] * (ll_loss_a + ll_loss_b) + \\\n",
    "                 hyperparameters['ll_cycle_link_w'] * (ll_loss_aba + ll_loss_bab) + \\\n",
    "                 hyperparameters['kl_direct_link_w'] * (enc_loss + enc_loss) + \\\n",
    "                 hyperparameters['kl_cycle_link_w'] * (enc_bab_loss + enc_aba_loss)"
   ]
  },
  {
   "cell_type": "code",
   "execution_count": 15,
   "metadata": {},
   "outputs": [],
   "source": [
    "tf.reset_default_graph()\n",
    "\n",
    "with tf.Session() as sess:\n",
    "    "
   ]
  },
  {
   "cell_type": "code",
   "execution_count": 17,
   "metadata": {},
   "outputs": [],
   "source": [
    "# tf.reset_default_graph()\n",
    "# create_UNIT(tf.placeholder(tf.float32, shape=[None, 256, 256, 3], name='X_A'),\n",
    "#            tf.placeholder(tf.float32, shape=[None, 256, 256, 3], name='X_B'))"
   ]
  },
  {
   "cell_type": "code",
   "execution_count": null,
   "metadata": {},
   "outputs": [],
   "source": []
  }
 ],
 "metadata": {
  "kernelspec": {
   "display_name": "Python 3",
   "language": "python",
   "name": "python3"
  },
  "language_info": {
   "codemirror_mode": {
    "name": "ipython",
    "version": 3
   },
   "file_extension": ".py",
   "mimetype": "text/x-python",
   "name": "python",
   "nbconvert_exporter": "python",
   "pygments_lexer": "ipython3",
   "version": "3.6.4"
  }
 },
 "nbformat": 4,
 "nbformat_minor": 2
}
