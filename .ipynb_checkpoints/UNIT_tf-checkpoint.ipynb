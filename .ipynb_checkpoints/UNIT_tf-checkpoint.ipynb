{
 "cells": [
  {
   "cell_type": "markdown",
   "metadata": {},
   "source": [
    "# Unsupervised Image-image Translation(UNIT) TensorFlow Implementation"
   ]
  },
  {
   "cell_type": "code",
   "execution_count": 1,
   "metadata": {},
   "outputs": [
    {
     "name": "stderr",
     "output_type": "stream",
     "text": [
      "/home/praveen/anaconda3/lib/python3.6/importlib/_bootstrap.py:219: RuntimeWarning: compiletime version 3.5 of module 'tensorflow.python.framework.fast_tensor_util' does not match runtime version 3.6\n",
      "  return f(*args, **kwds)\n"
     ]
    }
   ],
   "source": [
    "import tensorflow as tf\n",
    "from collections import OrderedDict"
   ]
  },
  {
   "cell_type": "code",
   "execution_count": 2,
   "metadata": {},
   "outputs": [],
   "source": [
    "#Funciton to chose the activation function\n",
    "def activate(linear, activation='leaky_relu'):\n",
    "        if activation == 'sigmoid':\n",
    "            return tf.nn.sigmoid(linear)\n",
    "        elif activation == 'softmax':\n",
    "            return tf.nn.softmax(linear)\n",
    "        elif activation == 'tanh':\n",
    "            return tf.nn.tanh(linear)\n",
    "        elif activation == 'relu':\n",
    "            return tf.nn.relu(linear)\n",
    "        elif activation == 'leaky_relu':\n",
    "            return tf.nn.leaky_relu(linear)\n",
    "        elif activation == 'linear':\n",
    "            return linear"
   ]
  },
  {
   "cell_type": "code",
   "execution_count": 3,
   "metadata": {},
   "outputs": [],
   "source": [
    "def gaussian_noise_layer(input_layer, std=1.0):\n",
    "    noise = tf.random_normal(shape=tf.shape(input_layer), mean=0.0, stddev=std, dtype=tf.float32) \n",
    "    return tf.add(input_layer, noise)"
   ]
  },
  {
   "cell_type": "code",
   "execution_count": 4,
   "metadata": {},
   "outputs": [],
   "source": [
    "def batch_normalization_layer(input_layer):\n",
    "    \n",
    "    dimension = input_layer.get_shape().as_list()[-1]\n",
    "    \n",
    "    mean, variance = tf.nn.moments(input_layer, axes=[0, 1, 2])\n",
    "    \n",
    "    beta = tf.Variable(tf.constant(0.0, shape=[dimension]))\n",
    "    \n",
    "    gamma = tf.Variable(tf.constant(1.0, shape=[dimension]))\n",
    "\n",
    "    bn_layer = tf.nn.batch_normalization(input_layer, mean, variance, beta, gamma, variance_epsilon=1e-10)\n",
    "\n",
    "    return bn_layer"
   ]
  },
  {
   "cell_type": "code",
   "execution_count": 408,
   "metadata": {},
   "outputs": [],
   "source": [
    "def create_conv_layer(input_layer,     # The previous layer.\n",
    "                   filter_size,        # Width and height of each filter.\n",
    "                   num_filters,        # Number of filters.\n",
    "                   use_pooling=False,  \n",
    "                   pad = [],\n",
    "                   strides=[1,1,1,1],\n",
    "                   deconv=False,\n",
    "                   out_shape = [],      # Output shape in case of deconv \n",
    "                   batch_normalization=False,\n",
    "                   activation='leaky_relu'): # Use 2x2 max-pooling.\n",
    "\n",
    "    \n",
    "    num_input_channels = input_layer.get_shape().as_list()[-1]\n",
    "    # Shape of the filter-weights for the convolution. \n",
    "    # This format is determined by the TensorFlow API.\n",
    "    if deconv:\n",
    "        shape = [filter_size, filter_size, num_filters, num_input_channels]\n",
    "    else:\n",
    "        shape = [filter_size, filter_size, num_input_channels, num_filters]\n",
    "\n",
    "    # Create new weights aka. filters with the given shape.\n",
    "    weights = tf.Variable(tf.truncated_normal(shape, stddev=0.05))\n",
    "\n",
    "    # Create new biases, one for each filter.\n",
    "    biases = tf.Variable(tf.constant(1.0, shape=[num_filters]))\n",
    "\n",
    "    if len(pad) > 0:\n",
    "        input_layer = tf.pad(input_layer, [[0, 0], [pad[0], pad[0]], [pad[1], pad[1]], [0, 0]], \"CONSTANT\")\n",
    "    \n",
    "    # Create the TensorFlow operation for de-convolution.\n",
    "    if deconv:\n",
    "        in_shape = input_layer.get_shape().as_list()\n",
    "        #in_shape = tf.shape(input_layer)\n",
    "    \n",
    "        out_h = ((in_shape[1] - 1) * strides[1]) + filter_size - 2 * pad[0]\n",
    "        \n",
    "        out_w = ((in_shape[2] - 1) * strides[2]) + filter_size - 2 * pad[1]\n",
    "        \n",
    "        output_shape = tf.stack([in_shape[0], out_h, out_w, num_filters])\n",
    "        print(\"in:\",in_shape,\"out:\",[in_shape[0], out_h, out_w, num_filters])\n",
    "        layer = tf.nn.conv2d_transpose(value=input_layer, \n",
    "                                       filter=weights, \n",
    "                                       output_shape=output_shape, \n",
    "                                       strides=strides, \n",
    "                                       padding='SAME')\n",
    "        \n",
    "    else:\n",
    "        layer = tf.nn.conv2d(input=input_layer,\n",
    "                         filter=weights,\n",
    "                         strides=strides,\n",
    "                         padding='VALID')\n",
    "\n",
    "    # Add the biases to the results of the convolution.\n",
    "    # A bias-value is added to each filter-channel.\n",
    "    layer = tf.add(layer,biases)\n",
    "\n",
    "    # Use pooling to down-sample the image resolution?\n",
    "    if use_pooling:\n",
    "        # This is 2x2 max-pooling, which means that we\n",
    "        # consider 2x2 windows and select the largest value\n",
    "        # in each window. Then we move 2 pixels to the next window.\n",
    "        layer = tf.nn.max_pool(value=layer,\n",
    "                               ksize=[1, 2, 2, 1],\n",
    "                               strides=[1, 2, 2, 1],\n",
    "                               padding='SAME')\n",
    "\n",
    "    # Batch normalization\n",
    "    if batch_normalization:\n",
    "        layer = batch_normalization_layer(layer)\n",
    "    \n",
    "    # Activation of the layers (ReLU).\n",
    "    layer = activate(layer, activation=activation)\n",
    "\n",
    "    return layer"
   ]
  },
  {
   "cell_type": "code",
   "execution_count": 409,
   "metadata": {},
   "outputs": [],
   "source": [
    "def create_res_block(X, filter_size=3, num_filters=3, pad=[1,1]):\n",
    "    \n",
    "    num_filters = X.get_shape().as_list()[-1]\n",
    "    \n",
    "    layer_conv1 = create_conv_layer(input_layer=X,\n",
    "                                   filter_size=filter_size,\n",
    "                                   num_filters=num_filters,\n",
    "                                   pad=pad,\n",
    "                                   use_pooling=False,\n",
    "                                   batch_normalization=True,\n",
    "                                   activation='relu')\n",
    "    \n",
    "    layer_conv2 = create_conv_layer(input_layer=layer_conv1,\n",
    "                                   filter_size=filter_size,\n",
    "                                   num_filters=num_filters,\n",
    "                                   pad=pad,\n",
    "                                   use_pooling=False,\n",
    "                                   batch_normalization=False,\n",
    "                                   activation='linear')\n",
    "    \n",
    "    layer_conv2 = batch_normalization_layer(layer_conv2)\n",
    "    \n",
    "    layer_conv2 += X\n",
    "    \n",
    "    layer_res = activate(layer_conv2, activation='relu')\n",
    "    \n",
    "    return layer_res"
   ]
  },
  {
   "cell_type": "code",
   "execution_count": 410,
   "metadata": {},
   "outputs": [],
   "source": [
    "def create_encoder(X, layer_n, res_block_n):\n",
    "    \n",
    "    num_filters = X.get_shape().as_list()[-1]\n",
    "    \n",
    "    encoder = OrderedDict()\n",
    "    \n",
    "    encoder['layer_conv1'] = create_conv_layer(input_layer=X,\n",
    "                                       num_filters=num_filters,\n",
    "                                       filter_size=7,\n",
    "                                       strides=[1,1,1,1],\n",
    "                                       pad=[3,3])\n",
    "    \n",
    "    for i in range(1, layer_n):\n",
    "        \n",
    "        encoder['layer_conv'+str(i+1)] = create_conv_layer(encoder[next(reversed(encoder))],\n",
    "                                       num_filters=num_filters*2,\n",
    "                                       filter_size=3,\n",
    "                                       strides=[1,2,2,1],\n",
    "                                       pad=[1,1])\n",
    "        \n",
    "        num_filters = num_filters*2\n",
    "        \n",
    "    for i in range(0, res_block_n):\n",
    "        encoder['block_en_res'+str(i+1)] = create_res_block(encoder[next(reversed(encoder))],\n",
    "                                                           num_filters=num_filters)\n",
    "        \n",
    "    return encoder#[next(reversed(encoder))]"
   ]
  },
  {
   "cell_type": "code",
   "execution_count": 411,
   "metadata": {},
   "outputs": [],
   "source": [
    "def create_shared_layers(X, block_shared_n):\n",
    "    encoder_shared = OrderedDict()\n",
    "    decoder_shared = OrderedDict()\n",
    "    \n",
    "    encoder_shared_ = create_res_block(X)\n",
    "    encoder_shared['block_shared_res1'] = gaussian_noise_layer(encoder_shared_)\n",
    "    \n",
    "    for i in range(1, block_shared_n+1):\n",
    "        encoder_shared_ = create_res_block(encoder_shared[next(reversed(encoder_shared))])\n",
    "        encoder_shared['block_shared_res'+str(i+1)] = gaussian_noise_layer(encoder_shared_)\n",
    "    \n",
    "    decoder_shared['block_shared_res1'] = create_res_block(encoder_shared[next(reversed(encoder_shared))])\n",
    "    \n",
    "    for i in range(1, block_shared_n+1):\n",
    "        decoder_shared['block_shared_res'+str(i+1)] = create_res_block(decoder_shared[next(reversed(decoder_shared))])\n",
    "        \n",
    "    return decoder_shared#[next(reversed(decoder_shared))]"
   ]
  },
  {
   "cell_type": "code",
   "execution_count": 420,
   "metadata": {},
   "outputs": [],
   "source": [
    "def create_generator(X, layer_n, res_block_n, output_shape):\n",
    "    \n",
    "    num_filters = X.get_shape().as_list()[-1]\n",
    "    \n",
    "    decoder = OrderedDict()\n",
    "    \n",
    "    decoder['block_res1'] = create_res_block(X, num_filters=num_filters)\n",
    "        \n",
    "    for i in range(1, res_block_n):\n",
    "        decoder['block_res'+str(i+1)] = create_res_block(decoder[next(reversed(decoder))],\n",
    "                                                           num_filters=num_filters)\n",
    "\n",
    "    for i in range(0, layer_n-1):\n",
    "        \n",
    "        decoder['layer_deconv'+str(i+1)] = create_conv_layer(decoder[next(reversed(decoder))],\n",
    "                                       num_filters=num_filters,\n",
    "                                       filter_size=3,\n",
    "                                       strides=[1,2,2,1],\n",
    "                                       pad=[1,1],\n",
    "                                       deconv=True,\n",
    "                                       batch_normalization=True,\n",
    "                                       activation='relu')\n",
    "        \n",
    "        num_filters = num_filters//2\n",
    "    \n",
    "    decoder['layer_deconv'+str(layer_n)] = tf.nn.conv2d_transpose(decoder[next(reversed(decoder))],\n",
    "                                       filter=tf.Variable(tf.truncated_normal([1,1,], stddev=0.05)),\n",
    "                                       output_shape=output_shape, \n",
    "                                       strides=[1,1,1,1], \n",
    "                                       padding='SAME')\n",
    "    \n",
    "    return decoder#[next(reversed(decoder))]"
   ]
  },
  {
   "cell_type": "code",
   "execution_count": 421,
   "metadata": {},
   "outputs": [],
   "source": [
    "def create_discrimiator(X, num_filters, layer_n):\n",
    "    \n",
    "    discriminator = OrderedDict()\n",
    "    \n",
    "    discriminator['layer_discrim_conv1'] = create_conv_layer(input_layer=X,\n",
    "                                       num_filters=num_filters,\n",
    "                                       filter_size=3,\n",
    "                                       strides=[1,2,2,1],\n",
    "                                       pad=[1,1])\n",
    "    \n",
    "    for i in range(1, layer_n):\n",
    "        \n",
    "        num_filters = num_filters * 2\n",
    "        \n",
    "        discriminator['layer_discrim_conv'+str(i+1)] = create_conv_layer(discriminator[next(reversed(discriminator))],\n",
    "                                       num_filters=num_filters,\n",
    "                                       filter_size=3,\n",
    "                                       strides=[1,2,2,1],\n",
    "                                       pad=[1,1])\n",
    "    \n",
    "    discriminator['layer_deconv_final'] = create_conv_layer(discriminator[next(reversed(discriminator))],\n",
    "                                       num_filters=1,\n",
    "                                       filter_size=1,\n",
    "                                       strides=[1,1,1,1],\n",
    "                                       pad=[0,0])\n",
    "    \n",
    "    return discriminator#[next(reversed(discriminator))]"
   ]
  },
  {
   "cell_type": "code",
   "execution_count": 422,
   "metadata": {},
   "outputs": [],
   "source": [
    "def compute_encoding_loss(x):\n",
    "    x_2 = tf.pow(x, 2)\n",
    "    encoding_loss = tf.reduce_mean(x_2)\n",
    "    return encoding_loss"
   ]
  },
  {
   "cell_type": "code",
   "execution_count": 423,
   "metadata": {},
   "outputs": [],
   "source": [
    "def compute_l1_loss(x,y):\n",
    "    return tf.reduce_mean(tf.subtract(x,y))"
   ]
  },
  {
   "cell_type": "code",
   "execution_count": null,
   "metadata": {},
   "outputs": [],
   "source": []
  },
  {
   "cell_type": "code",
   "execution_count": 424,
   "metadata": {},
   "outputs": [
    {
     "name": "stdout",
     "output_type": "stream",
     "text": [
      "in: [1, 130, 66, 12] out: [1, 259, 131, 12]\n",
      "in: [1, 263, 135, 12] out: [1, 525, 269, 6]\n",
      "in: [1, 130, 66, 12] out: [1, 259, 131, 12]\n",
      "in: [1, 263, 135, 12] out: [1, 525, 269, 6]\n"
     ]
    },
    {
     "ename": "ValueError",
     "evalue": "Dimension size must be evenly divisible by 256 but is 527\n\tNumber of ways to split should evenly divide the split dimension for 'split_8' (op: 'Split') with input shapes: [], [1,527,271,3] and with computed input tensors: input[0] = <1>.",
     "output_type": "error",
     "traceback": [
      "\u001b[0;31m---------------------------------------------------------------------------\u001b[0m",
      "\u001b[0;31mInvalidArgumentError\u001b[0m                      Traceback (most recent call last)",
      "\u001b[0;32m~/anaconda3/lib/python3.6/site-packages/tensorflow/python/framework/common_shapes.py\u001b[0m in \u001b[0;36m_call_cpp_shape_fn_impl\u001b[0;34m(op, input_tensors_needed, input_tensors_as_shapes_needed, require_shape_fn)\u001b[0m\n\u001b[1;32m    685\u001b[0m           \u001b[0mgraph_def_version\u001b[0m\u001b[0;34m,\u001b[0m \u001b[0mnode_def_str\u001b[0m\u001b[0;34m,\u001b[0m \u001b[0minput_shapes\u001b[0m\u001b[0;34m,\u001b[0m \u001b[0minput_tensors\u001b[0m\u001b[0;34m,\u001b[0m\u001b[0;34m\u001b[0m\u001b[0m\n\u001b[0;32m--> 686\u001b[0;31m           input_tensors_as_shapes, status)\n\u001b[0m\u001b[1;32m    687\u001b[0m   \u001b[0;32mexcept\u001b[0m \u001b[0merrors\u001b[0m\u001b[0;34m.\u001b[0m\u001b[0mInvalidArgumentError\u001b[0m \u001b[0;32mas\u001b[0m \u001b[0merr\u001b[0m\u001b[0;34m:\u001b[0m\u001b[0;34m\u001b[0m\u001b[0m\n",
      "\u001b[0;32m~/anaconda3/lib/python3.6/site-packages/tensorflow/python/framework/errors_impl.py\u001b[0m in \u001b[0;36m__exit__\u001b[0;34m(self, type_arg, value_arg, traceback_arg)\u001b[0m\n\u001b[1;32m    472\u001b[0m             \u001b[0mcompat\u001b[0m\u001b[0;34m.\u001b[0m\u001b[0mas_text\u001b[0m\u001b[0;34m(\u001b[0m\u001b[0mc_api\u001b[0m\u001b[0;34m.\u001b[0m\u001b[0mTF_Message\u001b[0m\u001b[0;34m(\u001b[0m\u001b[0mself\u001b[0m\u001b[0;34m.\u001b[0m\u001b[0mstatus\u001b[0m\u001b[0;34m.\u001b[0m\u001b[0mstatus\u001b[0m\u001b[0;34m)\u001b[0m\u001b[0;34m)\u001b[0m\u001b[0;34m,\u001b[0m\u001b[0;34m\u001b[0m\u001b[0m\n\u001b[0;32m--> 473\u001b[0;31m             c_api.TF_GetCode(self.status.status))\n\u001b[0m\u001b[1;32m    474\u001b[0m     \u001b[0;31m# Delete the underlying status object from memory otherwise it stays alive\u001b[0m\u001b[0;34m\u001b[0m\u001b[0;34m\u001b[0m\u001b[0m\n",
      "\u001b[0;31mInvalidArgumentError\u001b[0m: Dimension size must be evenly divisible by 256 but is 527\n\tNumber of ways to split should evenly divide the split dimension for 'split_8' (op: 'Split') with input shapes: [], [1,527,271,3] and with computed input tensors: input[0] = <1>.",
      "\nDuring handling of the above exception, another exception occurred:\n",
      "\u001b[0;31mValueError\u001b[0m                                Traceback (most recent call last)",
      "\u001b[0;32m<ipython-input-424-957b69bd0f31>\u001b[0m in \u001b[0;36m<module>\u001b[0;34m()\u001b[0m\n\u001b[1;32m     13\u001b[0m \u001b[0mdecode_B\u001b[0m \u001b[0;34m=\u001b[0m \u001b[0mcreate_generator\u001b[0m\u001b[0;34m(\u001b[0m\u001b[0mshared\u001b[0m\u001b[0;34m[\u001b[0m\u001b[0mnext\u001b[0m\u001b[0;34m(\u001b[0m\u001b[0mreversed\u001b[0m\u001b[0;34m(\u001b[0m\u001b[0mshared\u001b[0m\u001b[0;34m)\u001b[0m\u001b[0;34m)\u001b[0m\u001b[0;34m]\u001b[0m\u001b[0;34m,\u001b[0m \u001b[0mlayer_n\u001b[0m\u001b[0;34m=\u001b[0m\u001b[0;36m3\u001b[0m\u001b[0;34m,\u001b[0m \u001b[0mres_block_n\u001b[0m\u001b[0;34m=\u001b[0m\u001b[0;36m3\u001b[0m\u001b[0;34m,\u001b[0m \u001b[0mnum_output_channels\u001b[0m\u001b[0;34m=\u001b[0m\u001b[0;36m3\u001b[0m\u001b[0;34m)\u001b[0m\u001b[0;34m\u001b[0m\u001b[0m\n\u001b[1;32m     14\u001b[0m \u001b[0;34m\u001b[0m\u001b[0m\n\u001b[0;32m---> 15\u001b[0;31m \u001b[0mX_aa\u001b[0m\u001b[0;34m,\u001b[0m \u001b[0mX_ba\u001b[0m \u001b[0;34m=\u001b[0m \u001b[0mtf\u001b[0m\u001b[0;34m.\u001b[0m\u001b[0msplit\u001b[0m\u001b[0;34m(\u001b[0m\u001b[0mdecode_A\u001b[0m\u001b[0;34m[\u001b[0m\u001b[0mnext\u001b[0m\u001b[0;34m(\u001b[0m\u001b[0mreversed\u001b[0m\u001b[0;34m(\u001b[0m\u001b[0mdecode_A\u001b[0m\u001b[0;34m)\u001b[0m\u001b[0;34m)\u001b[0m\u001b[0;34m]\u001b[0m\u001b[0;34m,\u001b[0m \u001b[0mnum_or_size_splits\u001b[0m\u001b[0;34m=\u001b[0m\u001b[0mX_A\u001b[0m\u001b[0;34m.\u001b[0m\u001b[0mget_shape\u001b[0m\u001b[0;34m(\u001b[0m\u001b[0;34m)\u001b[0m\u001b[0;34m.\u001b[0m\u001b[0mas_list\u001b[0m\u001b[0;34m(\u001b[0m\u001b[0;34m)\u001b[0m\u001b[0;34m[\u001b[0m\u001b[0;36m1\u001b[0m\u001b[0;34m]\u001b[0m\u001b[0;34m,\u001b[0m \u001b[0maxis\u001b[0m\u001b[0;34m=\u001b[0m\u001b[0;36m1\u001b[0m\u001b[0;34m)\u001b[0m\u001b[0;34m\u001b[0m\u001b[0m\n\u001b[0m\u001b[1;32m     16\u001b[0m \u001b[0mX_ab\u001b[0m\u001b[0;34m,\u001b[0m \u001b[0mX_bb\u001b[0m \u001b[0;34m=\u001b[0m \u001b[0mtf\u001b[0m\u001b[0;34m.\u001b[0m\u001b[0msplit\u001b[0m\u001b[0;34m(\u001b[0m\u001b[0mdecode_B\u001b[0m\u001b[0;34m[\u001b[0m\u001b[0mnext\u001b[0m\u001b[0;34m(\u001b[0m\u001b[0mreversed\u001b[0m\u001b[0;34m(\u001b[0m\u001b[0mdecode_A\u001b[0m\u001b[0;34m)\u001b[0m\u001b[0;34m)\u001b[0m\u001b[0;34m]\u001b[0m\u001b[0;34m,\u001b[0m \u001b[0mnum_or_size_splits\u001b[0m\u001b[0;34m=\u001b[0m\u001b[0mX_B\u001b[0m\u001b[0;34m.\u001b[0m\u001b[0mget_shape\u001b[0m\u001b[0;34m(\u001b[0m\u001b[0;34m)\u001b[0m\u001b[0;34m.\u001b[0m\u001b[0mas_list\u001b[0m\u001b[0;34m(\u001b[0m\u001b[0;34m)\u001b[0m\u001b[0;34m[\u001b[0m\u001b[0;36m1\u001b[0m\u001b[0;34m]\u001b[0m\u001b[0;34m,\u001b[0m \u001b[0maxis\u001b[0m\u001b[0;34m=\u001b[0m\u001b[0;36m1\u001b[0m\u001b[0;34m)\u001b[0m\u001b[0;34m\u001b[0m\u001b[0m\n\u001b[1;32m     17\u001b[0m \u001b[0;34m\u001b[0m\u001b[0m\n",
      "\u001b[0;32m~/anaconda3/lib/python3.6/site-packages/tensorflow/python/ops/array_ops.py\u001b[0m in \u001b[0;36msplit\u001b[0;34m(value, num_or_size_splits, axis, num, name)\u001b[0m\n\u001b[1;32m   1263\u001b[0m   \u001b[0;32mif\u001b[0m \u001b[0msize_splits\u001b[0m\u001b[0;34m.\u001b[0m\u001b[0mget_shape\u001b[0m\u001b[0;34m(\u001b[0m\u001b[0;34m)\u001b[0m\u001b[0;34m.\u001b[0m\u001b[0mndims\u001b[0m \u001b[0;34m==\u001b[0m \u001b[0;36m0\u001b[0m \u001b[0;32mand\u001b[0m \u001b[0msize_splits\u001b[0m\u001b[0;34m.\u001b[0m\u001b[0mdtype\u001b[0m\u001b[0;34m.\u001b[0m\u001b[0mis_integer\u001b[0m\u001b[0;34m:\u001b[0m\u001b[0;34m\u001b[0m\u001b[0m\n\u001b[1;32m   1264\u001b[0m     return gen_array_ops._split(\n\u001b[0;32m-> 1265\u001b[0;31m         split_dim=axis, num_split=num_or_size_splits, value=value, name=name)\n\u001b[0m\u001b[1;32m   1266\u001b[0m   \u001b[0;32melse\u001b[0m\u001b[0;34m:\u001b[0m\u001b[0;34m\u001b[0m\u001b[0m\n\u001b[1;32m   1267\u001b[0m     \u001b[0;32mif\u001b[0m \u001b[0mnum\u001b[0m \u001b[0;32mis\u001b[0m \u001b[0;32mNone\u001b[0m\u001b[0;34m:\u001b[0m\u001b[0;34m\u001b[0m\u001b[0m\n",
      "\u001b[0;32m~/anaconda3/lib/python3.6/site-packages/tensorflow/python/ops/gen_array_ops.py\u001b[0m in \u001b[0;36m_split\u001b[0;34m(split_dim, value, num_split, name)\u001b[0m\n\u001b[1;32m   5092\u001b[0m     _, _, _op = _op_def_lib._apply_op_helper(\n\u001b[1;32m   5093\u001b[0m         \u001b[0;34m\"Split\"\u001b[0m\u001b[0;34m,\u001b[0m \u001b[0msplit_dim\u001b[0m\u001b[0;34m=\u001b[0m\u001b[0msplit_dim\u001b[0m\u001b[0;34m,\u001b[0m \u001b[0mvalue\u001b[0m\u001b[0;34m=\u001b[0m\u001b[0mvalue\u001b[0m\u001b[0;34m,\u001b[0m \u001b[0mnum_split\u001b[0m\u001b[0;34m=\u001b[0m\u001b[0mnum_split\u001b[0m\u001b[0;34m,\u001b[0m\u001b[0;34m\u001b[0m\u001b[0m\n\u001b[0;32m-> 5094\u001b[0;31m         name=name)\n\u001b[0m\u001b[1;32m   5095\u001b[0m     \u001b[0m_result\u001b[0m \u001b[0;34m=\u001b[0m \u001b[0m_op\u001b[0m\u001b[0;34m.\u001b[0m\u001b[0moutputs\u001b[0m\u001b[0;34m[\u001b[0m\u001b[0;34m:\u001b[0m\u001b[0;34m]\u001b[0m\u001b[0;34m\u001b[0m\u001b[0m\n\u001b[1;32m   5096\u001b[0m     \u001b[0m_inputs_flat\u001b[0m \u001b[0;34m=\u001b[0m \u001b[0m_op\u001b[0m\u001b[0;34m.\u001b[0m\u001b[0minputs\u001b[0m\u001b[0;34m\u001b[0m\u001b[0m\n",
      "\u001b[0;32m~/anaconda3/lib/python3.6/site-packages/tensorflow/python/framework/op_def_library.py\u001b[0m in \u001b[0;36m_apply_op_helper\u001b[0;34m(self, op_type_name, name, **keywords)\u001b[0m\n\u001b[1;32m    785\u001b[0m         op = g.create_op(op_type_name, inputs, output_types, name=scope,\n\u001b[1;32m    786\u001b[0m                          \u001b[0minput_types\u001b[0m\u001b[0;34m=\u001b[0m\u001b[0minput_types\u001b[0m\u001b[0;34m,\u001b[0m \u001b[0mattrs\u001b[0m\u001b[0;34m=\u001b[0m\u001b[0mattr_protos\u001b[0m\u001b[0;34m,\u001b[0m\u001b[0;34m\u001b[0m\u001b[0m\n\u001b[0;32m--> 787\u001b[0;31m                          op_def=op_def)\n\u001b[0m\u001b[1;32m    788\u001b[0m       \u001b[0;32mreturn\u001b[0m \u001b[0moutput_structure\u001b[0m\u001b[0;34m,\u001b[0m \u001b[0mop_def\u001b[0m\u001b[0;34m.\u001b[0m\u001b[0mis_stateful\u001b[0m\u001b[0;34m,\u001b[0m \u001b[0mop\u001b[0m\u001b[0;34m\u001b[0m\u001b[0m\n\u001b[1;32m    789\u001b[0m \u001b[0;34m\u001b[0m\u001b[0m\n",
      "\u001b[0;32m~/anaconda3/lib/python3.6/site-packages/tensorflow/python/framework/ops.py\u001b[0m in \u001b[0;36mcreate_op\u001b[0;34m(self, op_type, inputs, dtypes, input_types, name, attrs, op_def, compute_shapes, compute_device)\u001b[0m\n\u001b[1;32m   2956\u001b[0m         op_def=op_def)\n\u001b[1;32m   2957\u001b[0m     \u001b[0;32mif\u001b[0m \u001b[0mcompute_shapes\u001b[0m\u001b[0;34m:\u001b[0m\u001b[0;34m\u001b[0m\u001b[0m\n\u001b[0;32m-> 2958\u001b[0;31m       \u001b[0mset_shapes_for_outputs\u001b[0m\u001b[0;34m(\u001b[0m\u001b[0mret\u001b[0m\u001b[0;34m)\u001b[0m\u001b[0;34m\u001b[0m\u001b[0m\n\u001b[0m\u001b[1;32m   2959\u001b[0m     \u001b[0mself\u001b[0m\u001b[0;34m.\u001b[0m\u001b[0m_add_op\u001b[0m\u001b[0;34m(\u001b[0m\u001b[0mret\u001b[0m\u001b[0;34m)\u001b[0m\u001b[0;34m\u001b[0m\u001b[0m\n\u001b[1;32m   2960\u001b[0m     \u001b[0mself\u001b[0m\u001b[0;34m.\u001b[0m\u001b[0m_record_op_seen_by_control_dependencies\u001b[0m\u001b[0;34m(\u001b[0m\u001b[0mret\u001b[0m\u001b[0;34m)\u001b[0m\u001b[0;34m\u001b[0m\u001b[0m\n",
      "\u001b[0;32m~/anaconda3/lib/python3.6/site-packages/tensorflow/python/framework/ops.py\u001b[0m in \u001b[0;36mset_shapes_for_outputs\u001b[0;34m(op)\u001b[0m\n\u001b[1;32m   2207\u001b[0m       \u001b[0mshape_func\u001b[0m \u001b[0;34m=\u001b[0m \u001b[0m_call_cpp_shape_fn_and_require_op\u001b[0m\u001b[0;34m\u001b[0m\u001b[0m\n\u001b[1;32m   2208\u001b[0m \u001b[0;34m\u001b[0m\u001b[0m\n\u001b[0;32m-> 2209\u001b[0;31m   \u001b[0mshapes\u001b[0m \u001b[0;34m=\u001b[0m \u001b[0mshape_func\u001b[0m\u001b[0;34m(\u001b[0m\u001b[0mop\u001b[0m\u001b[0;34m)\u001b[0m\u001b[0;34m\u001b[0m\u001b[0m\n\u001b[0m\u001b[1;32m   2210\u001b[0m   \u001b[0;32mif\u001b[0m \u001b[0mshapes\u001b[0m \u001b[0;32mis\u001b[0m \u001b[0;32mNone\u001b[0m\u001b[0;34m:\u001b[0m\u001b[0;34m\u001b[0m\u001b[0m\n\u001b[1;32m   2211\u001b[0m     raise RuntimeError(\n",
      "\u001b[0;32m~/anaconda3/lib/python3.6/site-packages/tensorflow/python/framework/ops.py\u001b[0m in \u001b[0;36mcall_with_requiring\u001b[0;34m(op)\u001b[0m\n\u001b[1;32m   2157\u001b[0m \u001b[0;34m\u001b[0m\u001b[0m\n\u001b[1;32m   2158\u001b[0m   \u001b[0;32mdef\u001b[0m \u001b[0mcall_with_requiring\u001b[0m\u001b[0;34m(\u001b[0m\u001b[0mop\u001b[0m\u001b[0;34m)\u001b[0m\u001b[0;34m:\u001b[0m\u001b[0;34m\u001b[0m\u001b[0m\n\u001b[0;32m-> 2159\u001b[0;31m     \u001b[0;32mreturn\u001b[0m \u001b[0mcall_cpp_shape_fn\u001b[0m\u001b[0;34m(\u001b[0m\u001b[0mop\u001b[0m\u001b[0;34m,\u001b[0m \u001b[0mrequire_shape_fn\u001b[0m\u001b[0;34m=\u001b[0m\u001b[0;32mTrue\u001b[0m\u001b[0;34m)\u001b[0m\u001b[0;34m\u001b[0m\u001b[0m\n\u001b[0m\u001b[1;32m   2160\u001b[0m \u001b[0;34m\u001b[0m\u001b[0m\n\u001b[1;32m   2161\u001b[0m   \u001b[0m_call_cpp_shape_fn_and_require_op\u001b[0m \u001b[0;34m=\u001b[0m \u001b[0mcall_with_requiring\u001b[0m\u001b[0;34m\u001b[0m\u001b[0m\n",
      "\u001b[0;32m~/anaconda3/lib/python3.6/site-packages/tensorflow/python/framework/common_shapes.py\u001b[0m in \u001b[0;36mcall_cpp_shape_fn\u001b[0;34m(op, require_shape_fn)\u001b[0m\n\u001b[1;32m    625\u001b[0m     res = _call_cpp_shape_fn_impl(op, input_tensors_needed,\n\u001b[1;32m    626\u001b[0m                                   \u001b[0minput_tensors_as_shapes_needed\u001b[0m\u001b[0;34m,\u001b[0m\u001b[0;34m\u001b[0m\u001b[0m\n\u001b[0;32m--> 627\u001b[0;31m                                   require_shape_fn)\n\u001b[0m\u001b[1;32m    628\u001b[0m     \u001b[0;32mif\u001b[0m \u001b[0;32mnot\u001b[0m \u001b[0misinstance\u001b[0m\u001b[0;34m(\u001b[0m\u001b[0mres\u001b[0m\u001b[0;34m,\u001b[0m \u001b[0mdict\u001b[0m\u001b[0;34m)\u001b[0m\u001b[0;34m:\u001b[0m\u001b[0;34m\u001b[0m\u001b[0m\n\u001b[1;32m    629\u001b[0m       \u001b[0;31m# Handles the case where _call_cpp_shape_fn_impl calls unknown_shape(op).\u001b[0m\u001b[0;34m\u001b[0m\u001b[0;34m\u001b[0m\u001b[0m\n",
      "\u001b[0;32m~/anaconda3/lib/python3.6/site-packages/tensorflow/python/framework/common_shapes.py\u001b[0m in \u001b[0;36m_call_cpp_shape_fn_impl\u001b[0;34m(op, input_tensors_needed, input_tensors_as_shapes_needed, require_shape_fn)\u001b[0m\n\u001b[1;32m    689\u001b[0m       \u001b[0mmissing_shape_fn\u001b[0m \u001b[0;34m=\u001b[0m \u001b[0;32mTrue\u001b[0m\u001b[0;34m\u001b[0m\u001b[0m\n\u001b[1;32m    690\u001b[0m     \u001b[0;32melse\u001b[0m\u001b[0;34m:\u001b[0m\u001b[0;34m\u001b[0m\u001b[0m\n\u001b[0;32m--> 691\u001b[0;31m       \u001b[0;32mraise\u001b[0m \u001b[0mValueError\u001b[0m\u001b[0;34m(\u001b[0m\u001b[0merr\u001b[0m\u001b[0;34m.\u001b[0m\u001b[0mmessage\u001b[0m\u001b[0;34m)\u001b[0m\u001b[0;34m\u001b[0m\u001b[0m\n\u001b[0m\u001b[1;32m    692\u001b[0m \u001b[0;34m\u001b[0m\u001b[0m\n\u001b[1;32m    693\u001b[0m   \u001b[0;32mif\u001b[0m \u001b[0mmissing_shape_fn\u001b[0m\u001b[0;34m:\u001b[0m\u001b[0;34m\u001b[0m\u001b[0m\n",
      "\u001b[0;31mValueError\u001b[0m: Dimension size must be evenly divisible by 256 but is 527\n\tNumber of ways to split should evenly divide the split dimension for 'split_8' (op: 'Split') with input shapes: [], [1,527,271,3] and with computed input tensors: input[0] = <1>."
     ]
    }
   ],
   "source": [
    "#Build Graph\n",
    "X_A = tf.placeholder(tf.float32, shape=[1, 256, 256, 3], name='X_A')\n",
    "X_B = tf.placeholder(tf.float32, shape=[1, 256, 256, 3], name='X_B')\n",
    "\n",
    "encode_A = create_encoder(X_A, layer_n=3, res_block_n=3)\n",
    "encode_B = create_encoder(X_B, layer_n=3, res_block_n=3)\n",
    "\n",
    "encode_AB = tf.concat([encode_A[next(reversed(encode_A))], encode_B[next(reversed(encode_B))]], axis=1)\n",
    "\n",
    "shared = create_shared_layers(encode_AB, block_shared_n=3)\n",
    "\n",
    "decode_A = create_generator(shared[next(reversed(shared))], layer_n=3, res_block_n=3, output_shape=X_A.get_shape().as_list())\n",
    "decode_B = create_generator(shared[next(reversed(shared))], layer_n=3, res_block_n=3, output_shape=X_A.get_shape().as_list())\n",
    "\n",
    "X_aa, X_ba = tf.split(decode_A[next(reversed(decode_A))], num_or_size_splits=X_A.get_shape().as_list()[1], axis=1)\n",
    "X_ab, X_bb = tf.split(decode_B[next(reversed(decode_A))], num_or_size_splits=X_B.get_shape().as_list()[1], axis=1)\n",
    "\n",
    "#dis\n",
    "outs_a = create_discrimiator(X_ba, num_filters=3, layer_n=6)\n",
    "outs_b = create_discrimiator(X_ab, num_filters=3, layer_n=6)"
   ]
  },
  {
   "cell_type": "code",
   "execution_count": 425,
   "metadata": {},
   "outputs": [
    {
     "data": {
      "text/plain": [
       "OrderedDict([('layer_conv1',\n",
       "              <tf.Tensor 'LeakyRelu_84/Maximum:0' shape=(1, 256, 256, 3) dtype=float32>),\n",
       "             ('layer_conv2',\n",
       "              <tf.Tensor 'LeakyRelu_85/Maximum:0' shape=(1, 128, 128, 6) dtype=float32>),\n",
       "             ('layer_conv3',\n",
       "              <tf.Tensor 'LeakyRelu_86/Maximum:0' shape=(1, 64, 64, 12) dtype=float32>),\n",
       "             ('block_en_res1',\n",
       "              <tf.Tensor 'Relu_551:0' shape=(1, 64, 64, 12) dtype=float32>),\n",
       "             ('block_en_res2',\n",
       "              <tf.Tensor 'Relu_553:0' shape=(1, 64, 64, 12) dtype=float32>),\n",
       "             ('block_en_res3',\n",
       "              <tf.Tensor 'Relu_555:0' shape=(1, 64, 64, 12) dtype=float32>)])"
      ]
     },
     "execution_count": 425,
     "metadata": {},
     "output_type": "execute_result"
    }
   ],
   "source": [
    "encode_A"
   ]
  },
  {
   "cell_type": "code",
   "execution_count": 426,
   "metadata": {},
   "outputs": [
    {
     "data": {
      "text/plain": [
       "OrderedDict([('block_shared_res1',\n",
       "              <tf.Tensor 'Relu_571:0' shape=(1, 128, 64, 12) dtype=float32>),\n",
       "             ('block_shared_res2',\n",
       "              <tf.Tensor 'Relu_573:0' shape=(1, 128, 64, 12) dtype=float32>),\n",
       "             ('block_shared_res3',\n",
       "              <tf.Tensor 'Relu_575:0' shape=(1, 128, 64, 12) dtype=float32>),\n",
       "             ('block_shared_res4',\n",
       "              <tf.Tensor 'Relu_577:0' shape=(1, 128, 64, 12) dtype=float32>)])"
      ]
     },
     "execution_count": 426,
     "metadata": {},
     "output_type": "execute_result"
    }
   ],
   "source": [
    "shared"
   ]
  },
  {
   "cell_type": "code",
   "execution_count": 427,
   "metadata": {},
   "outputs": [
    {
     "data": {
      "text/plain": [
       "OrderedDict([('block_res1',\n",
       "              <tf.Tensor 'Relu_579:0' shape=(1, 128, 64, 12) dtype=float32>),\n",
       "             ('block_res2',\n",
       "              <tf.Tensor 'Relu_581:0' shape=(1, 128, 64, 12) dtype=float32>),\n",
       "             ('block_res3',\n",
       "              <tf.Tensor 'Relu_583:0' shape=(1, 128, 64, 12) dtype=float32>),\n",
       "             ('layer_deconv1',\n",
       "              <tf.Tensor 'Relu_584:0' shape=(1, 261, 133, 12) dtype=float32>),\n",
       "             ('layer_deconv2',\n",
       "              <tf.Tensor 'Relu_585:0' shape=(1, 527, 271, 6) dtype=float32>),\n",
       "             ('layer_deconv3',\n",
       "              <tf.Tensor 'Tanh_6:0' shape=(1, 527, 271, 3) dtype=float32>)])"
      ]
     },
     "execution_count": 427,
     "metadata": {},
     "output_type": "execute_result"
    }
   ],
   "source": [
    "decode_A"
   ]
  },
  {
   "cell_type": "code",
   "execution_count": null,
   "metadata": {},
   "outputs": [],
   "source": [
    "def forward(sess, X_A, X_B, hyperparameters):\n",
    "    \n",
    "    #a2b\n",
    "    X_bab = sess.run([encode_A], feed_dict={X:X_ba})\n",
    "    shared_bab = sess.run([shared], feed_dict={X:X_bab})\n",
    "    X_bab = sess.run([decode_B], feed_dict={X:shared_bab})\n",
    "    \n",
    "    #b2a\n",
    "    X_aba = sess.run([encode_B], feed_dict={X:X_ab})\n",
    "    shared_aba = sess.run([shared], feed_dict={X:X_aba})\n",
    "    X_aba = sess.run([decode_A], feed_dict={X:shared_aba})\n",
    "    \n",
    "    #loss\n",
    "    all_ones = tf.Variable(tf.constant(1.0, shape=[tf.shape(outs_a)[0]]))\n",
    "    \n",
    "    ad_loss_a = tf.nn.sigmoid_cross_entropy_with_logits(logits=outs_a, labels=all_ones)\n",
    "    ad_loss_b = tf.nn.sigmoid_cross_entropy_with_logits(logits=outs_b, labels=all_ones)\n",
    "    \n",
    "    enc_loss  = compute_encoding_loss(shared)\n",
    "    enc_bab_loss = compute_encoding_loss(shared_bab)\n",
    "    enc_aba_loss = compute_encoding_loss(shared_aba)\n",
    "    ll_loss_a = compute_l1_loss(X_aa, X_A)\n",
    "    ll_loss_b = compute_l1_loss(X_bb, X_B)\n",
    "    ll_loss_aba = compute_l1_loss(X_aba, X_A)\n",
    "    ll_loss_bab = compute_l1_loss(X_bab, X_B)\n",
    "    \n",
    "    total_loss = hyperparameters['gan_w'] * (ad_loss_a + ad_loss_b) + \\\n",
    "                 hyperparameters['ll_direct_link_w'] * (ll_loss_a + ll_loss_b) + \\\n",
    "                 hyperparameters['ll_cycle_link_w'] * (ll_loss_aba + ll_loss_bab) + \\\n",
    "                 hyperparameters['kl_direct_link_w'] * (enc_loss + enc_loss) + \\\n",
    "                 hyperparameters['kl_cycle_link_w'] * (enc_bab_loss + enc_aba_loss)"
   ]
  },
  {
   "cell_type": "code",
   "execution_count": 15,
   "metadata": {},
   "outputs": [],
   "source": [
    "tf.reset_default_graph()\n",
    "\n",
    "with tf.Session() as sess:\n",
    "    "
   ]
  },
  {
   "cell_type": "code",
   "execution_count": 307,
   "metadata": {},
   "outputs": [],
   "source": [
    "tf.reset_default_graph()\n",
    "# create_UNIT(tf.placeholder(tf.float32, shape=[None, 256, 256, 3], name='X_A'),\n",
    "#            tf.placeholder(tf.float32, shape=[None, 256, 256, 3], name='X_B'))"
   ]
  },
  {
   "cell_type": "code",
   "execution_count": null,
   "metadata": {},
   "outputs": [],
   "source": []
  }
 ],
 "metadata": {
  "kernelspec": {
   "display_name": "Python 3",
   "language": "python",
   "name": "python3"
  },
  "language_info": {
   "codemirror_mode": {
    "name": "ipython",
    "version": 3
   },
   "file_extension": ".py",
   "mimetype": "text/x-python",
   "name": "python",
   "nbconvert_exporter": "python",
   "pygments_lexer": "ipython3",
   "version": "3.6.4"
  }
 },
 "nbformat": 4,
 "nbformat_minor": 2
}
